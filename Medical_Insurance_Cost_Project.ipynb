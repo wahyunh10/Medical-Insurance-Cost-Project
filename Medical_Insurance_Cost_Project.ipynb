{
  "nbformat": 4,
  "nbformat_minor": 0,
  "metadata": {
    "colab": {
      "name": "Medical Insurance Cost Project.ipynb",
      "provenance": [],
      "collapsed_sections": [],
      "authorship_tag": "ABX9TyNyvXkXAQPepbWXIzevl/sj",
      "include_colab_link": true
    },
    "kernelspec": {
      "name": "python3",
      "display_name": "Python 3"
    },
    "language_info": {
      "name": "python"
    }
  },
  "cells": [
    {
      "cell_type": "markdown",
      "metadata": {
        "id": "view-in-github",
        "colab_type": "text"
      },
      "source": [
        "<a href=\"https://colab.research.google.com/github/wahyunh10/Medical-Insurance-Cost-Project/blob/main/Medical_Insurance_Cost_Project.ipynb\" target=\"_parent\"><img src=\"https://colab.research.google.com/assets/colab-badge.svg\" alt=\"Open In Colab\"/></a>"
      ]
    },
    {
      "cell_type": "markdown",
      "source": [
        "# **Medical Insurance Cost Project**"
      ],
      "metadata": {
        "id": "J7HIJITspaTH"
      }
    },
    {
      "cell_type": "markdown",
      "source": [
        "# **About The Project**\n",
        "\n",
        "---\n",
        "\n"
      ],
      "metadata": {
        "id": "Jo49q1R4pgJk"
      }
    },
    {
      "cell_type": "markdown",
      "source": [
        "In 2019, the number of people with health insurance in the United State was close to 300 milion, about 92 percent of the population. Across the United States, Americans pay different premiums monthly for health insurance. The cost of medical insurance can very based on certain factors. Some of the factor that accoount for costs are age, location, tobacco use, dependents and plan category.\n",
        "\n",
        "In this project, we will analyze individual medical insurance cost and variables that may affect it. This project goal are to:\n",
        "\n",
        "* Analyze multiple variables in meaningful ways that will provide insight into the dataset\n",
        "* Implement Data Analys skill in a real-world scenario\n",
        "* Utilize Python to model this data in a way that is digestible\n",
        "\n",
        "Each section of this notebook will contain code that is being used to analyzw the dataset, as well as any findings. The aims is to provide both insights into the data while also showingcasing coding and data analysis skill."
      ],
      "metadata": {
        "id": "ht2ukYmrpTVL"
      }
    },
    {
      "cell_type": "markdown",
      "source": [
        "# **The Dataset**\n",
        "\n",
        "---\n",
        "\n"
      ],
      "metadata": {
        "id": "NqYSTxlOpnsH"
      }
    },
    {
      "cell_type": "markdown",
      "source": [
        "The dataset is obtained from [Kaggle dataset](https://www.kaggle.com/datasets/mirichoi0218/insurance). The dataset consist of 7 columns.\n",
        "\n",
        "* `age`: age of primary beneficiary\n",
        "* `sex`: insurance contractor gender, male or female\n",
        "* `bmi`: body mass index, providing an understandg of body, weights that relatively high or low relative to height, objective index of body weight (kg/m^2) using the ratio of height to weight\n",
        "* `children`: number of children covered by health insurance/number if dependents\n",
        "* `smoker`: is the beneficiary smoking ? yes or no\n",
        "* `region`: the beneficiary's residential area in the US; northeast southeast southwest, northwest\n",
        "* `charges`: indiidual medical cost billed by health insurance in USD"
      ],
      "metadata": {
        "id": "HBreO0HTpqlh"
      }
    },
    {
      "cell_type": "markdown",
      "source": [
        "# **Import The Dataset**\n",
        "\n",
        "---\n",
        "\n",
        "Before begin analyzing our dataset, the first thing we have to do  is import the dataset. Then we can see the header and example of row in the dataset. For example, we will take the first row.\n",
        "\n",
        "\n"
      ],
      "metadata": {
        "id": "w7w6zXlxsOcZ"
      }
    },
    {
      "cell_type": "code",
      "source": [
        "import csv\n",
        "\n",
        "with open('insurance.csv', newline='') as insurance_csv:\n",
        "    csv_reader = csv.reader(insurance_csv)\n",
        "    csv_headings = next(csv_reader)\n",
        "    first_line = next(csv_reader)\n",
        "    print(csv_headings)\n",
        "    print(first_line)"
      ],
      "metadata": {
        "colab": {
          "base_uri": "https://localhost:8080/"
        },
        "id": "pwe8P_paEZeC",
        "outputId": "cc4351b1-7ef2-4b12-999f-53689bad2fd0"
      },
      "execution_count": 5,
      "outputs": [
        {
          "output_type": "stream",
          "name": "stdout",
          "text": [
            "['age', 'sex', 'bmi', 'children', 'smoker', 'region', 'charges']\n",
            "['19', 'female', '27.9', '0', 'yes', 'southwest', '16884.924']\n"
          ]
        }
      ]
    },
    {
      "cell_type": "markdown",
      "source": [
        "From example above, we can see the insurance_csv file has 7 columns. We can also decide the data type for each column; `age` and `children` are integers, `bmi` and `charges` are floats, and `sex`, `smoker` and `region` are strings.\n",
        "\n",
        "We will make separate list for each column.\n"
      ],
      "metadata": {
        "id": "pa-pkUHCFQ5X"
      }
    },
    {
      "cell_type": "code",
      "source": [
        "# create list for each column\n",
        "age = []\n",
        "sex = []\n",
        "bmi = []\n",
        "children = []\n",
        "smoker = []\n",
        "region = []\n",
        "charges = []"
      ],
      "metadata": {
        "id": "ndZrPxHAF3u_"
      },
      "execution_count": 6,
      "outputs": []
    },
    {
      "cell_type": "code",
      "source": [
        "# read the dataset\n",
        "with open('insurance.csv', newline='') as insurance_csv:\n",
        "    insurance_dict = csv.DictReader(insurance_csv)\n",
        "    for data in insurance_dict: # append row from dictionary to list \n",
        "        age.append(int(data['age']))\n",
        "        sex.append(data['sex'])\n",
        "        bmi.append(float(data['bmi']))\n",
        "        children.append(int(data['children']))\n",
        "        smoker.append(data['smoker'])\n",
        "        region.append(data['region'])\n",
        "        charges.append(float(data['charges']))"
      ],
      "metadata": {
        "id": "dHNUAw-gIAbK"
      },
      "execution_count": 7,
      "outputs": []
    },
    {
      "cell_type": "markdown",
      "source": [
        "# **Investigating The Dataset**\n",
        "\n",
        "---\n",
        "\n",
        "Let's see if the dataset has missing data or not\n"
      ],
      "metadata": {
        "id": "blc1ildWIY5n"
      }
    },
    {
      "cell_type": "code",
      "source": [
        "from typing import List\n",
        "complete_list_dict = {'age' : age,\n",
        "                      'sex' : sex,\n",
        "                      'bmi' : children,\n",
        "                      'children' : children,\n",
        "                      'smoker' : smoker,\n",
        "                      'region' : region,\n",
        "                      'charges': smoker}\n",
        "\n",
        "for key in complete_list_dict:\n",
        "    print(\"The number of data in {key} list is {list_length}\".format(key=key, list_length=len(complete_list_dict[key])))"
      ],
      "metadata": {
        "colab": {
          "base_uri": "https://localhost:8080/"
        },
        "id": "SF5Q1CbfIiLH",
        "outputId": "40d9e247-c11a-46e0-8282-3d279aa58f54"
      },
      "execution_count": 8,
      "outputs": [
        {
          "output_type": "stream",
          "name": "stdout",
          "text": [
            "The number of data in age list is 1338\n",
            "The number of data in sex list is 1338\n",
            "The number of data in bmi list is 1338\n",
            "The number of data in children list is 1338\n",
            "The number of data in smoker list is 1338\n",
            "The number of data in region list is 1338\n",
            "The number of data in charges list is 1338\n"
          ]
        }
      ]
    },
    {
      "cell_type": "markdown",
      "source": [
        "There are 1338 data in all columns. Since the number is same across all columns, the are no missing data in the dataset"
      ],
      "metadata": {
        "id": "pre4aJ-SO-4g"
      }
    },
    {
      "cell_type": "code",
      "source": [
        "total_population = len(age)\n",
        "print(total_population)"
      ],
      "metadata": {
        "colab": {
          "base_uri": "https://localhost:8080/"
        },
        "id": "itvaf1E7PCPH",
        "outputId": "6f428e51-7062-46b3-d33c-2f07395b0427"
      },
      "execution_count": 9,
      "outputs": [
        {
          "output_type": "stream",
          "name": "stdout",
          "text": [
            "1338\n"
          ]
        }
      ]
    },
    {
      "cell_type": "markdown",
      "source": [
        "We have imported the dataset, now we can begin analyzing"
      ],
      "metadata": {
        "id": "fWYdKYo9Wccb"
      }
    },
    {
      "cell_type": "markdown",
      "source": [
        "# **Statistical Summary**\n",
        "\n",
        "---\n",
        "\n",
        "First, we can perform statistical analysis of data in each column.\n",
        "\n",
        "* For categorical column, we can sum the value in each category.\n",
        "* For numerical column, we can evaluate its min, max and average value.\n",
        "\n",
        "\n"
      ],
      "metadata": {
        "id": "Nwu8ktYsWiOH"
      }
    },
    {
      "cell_type": "markdown",
      "source": [
        "# **Sex Distribution**"
      ],
      "metadata": {
        "id": "ElBh5dq_W-S1"
      }
    },
    {
      "cell_type": "code",
      "source": [
        "# check the unique value in sex column\n",
        "sex_unique = []\n",
        "for sx in sex:\n",
        "    if sx not in sex_unique:\n",
        "        sex_unique.append(sx)\n",
        "print(sex_unique)"
      ],
      "metadata": {
        "colab": {
          "base_uri": "https://localhost:8080/"
        },
        "id": "1bvJUpnGXBvZ",
        "outputId": "7cad64dc-e927-48c8-c82e-16d22eef6ee9"
      },
      "execution_count": 10,
      "outputs": [
        {
          "output_type": "stream",
          "name": "stdout",
          "text": [
            "['female', 'male']\n"
          ]
        }
      ]
    },
    {
      "cell_type": "code",
      "source": [
        "# check the distribution of sex\n",
        "female_num = sex.count('female')\n",
        "male_num =sex.count('male')\n",
        "female_pct = round(female_num/total_population*100,2)\n",
        "male_pct = round(male_num/total_population*100,2)\n",
        "print(\"There are {count} female data, which contibutes to {pct}% of total data\"\n",
        "      .format(count=female_num, pct=female_pct))\n",
        "print(\"There are {count} male data, which contributes to {pct}% of total data\"\n",
        "      .format(count=male_num,pct=male_pct))"
      ],
      "metadata": {
        "colab": {
          "base_uri": "https://localhost:8080/"
        },
        "id": "Z-2j7lh-Xacm",
        "outputId": "b0b3f37d-7cfc-410d-dc62-add9aaf5c0b9"
      },
      "execution_count": 11,
      "outputs": [
        {
          "output_type": "stream",
          "name": "stdout",
          "text": [
            "There are 662 female data, which contibutes to 49.48% of total data\n",
            "There are 676 male data, which contributes to 50.52% of total data\n"
          ]
        }
      ]
    },
    {
      "cell_type": "markdown",
      "source": [
        "# **Region Distribution**"
      ],
      "metadata": {
        "id": "wJLP8Ou6YoLc"
      }
    },
    {
      "cell_type": "code",
      "source": [
        "# check the unique value in region column\n",
        "region_unique = []\n",
        "for reg in region:\n",
        "    if reg not in region_unique:\n",
        "        region_unique.append(reg)\n",
        "print(region_unique)"
      ],
      "metadata": {
        "colab": {
          "base_uri": "https://localhost:8080/"
        },
        "id": "w2rOZIdJnswU",
        "outputId": "b0d87e79-fc50-4617-f136-7f57b6541565"
      },
      "execution_count": 12,
      "outputs": [
        {
          "output_type": "stream",
          "name": "stdout",
          "text": [
            "['southwest', 'southeast', 'northwest', 'northeast']\n"
          ]
        }
      ]
    },
    {
      "cell_type": "code",
      "source": [
        "# check the distribution of region\n",
        "sw_count = region.count('southwest')\n",
        "se_count = region.count('southeast')\n",
        "nw_count = region.count('northwest')\n",
        "ne_count = region.count('northeast')\n",
        "\n",
        "sw_pct = round(sw_count/total_population*100,2)\n",
        "se_pct = round(sw_count/total_population*100,2)\n",
        "nw_pct = round(sw_count/total_population*100,2)\n",
        "ne_pct = round(sw_count/total_population*100,2)      \n",
        "\n",
        "print(\"There are {count} people from Southwest region, or {pct}% of total population\"\n",
        "      .format(count=sw_count, pct=sw_pct))\n",
        "print(\"There are {count} people from Southeast region, or {pct}% of total population\"\n",
        "      .format(count=se_count, pct=se_pct))\n",
        "print(\"There are {count} people from Northwest region, or {pct}% of total population\"\n",
        "      .format(count=nw_count, pct=nw_pct))\n",
        "print(\"There are {count} people from Northeast region, or {pct}% of total population\"\n",
        "      .format(count=ne_count, pct=ne_pct))"
      ],
      "metadata": {
        "colab": {
          "base_uri": "https://localhost:8080/"
        },
        "id": "lYcBnjq-oHQm",
        "outputId": "63d87866-dbaa-425e-81d3-2a0aaefb5e7e"
      },
      "execution_count": 13,
      "outputs": [
        {
          "output_type": "stream",
          "name": "stdout",
          "text": [
            "There are 325 people from Southwest region, or 24.29% of total population\n",
            "There are 364 people from Southeast region, or 24.29% of total population\n",
            "There are 325 people from Northwest region, or 24.29% of total population\n",
            "There are 324 people from Northeast region, or 24.29% of total population\n"
          ]
        }
      ]
    },
    {
      "cell_type": "markdown",
      "source": [
        "Like sex, the distribution in region is also quite equal."
      ],
      "metadata": {
        "id": "QxzLKyCHpYoT"
      }
    },
    {
      "cell_type": "markdown",
      "source": [
        "# **Smoker Distribution**"
      ],
      "metadata": {
        "id": "Yr_9nnqapfMo"
      }
    },
    {
      "cell_type": "code",
      "source": [
        "# check the unique value i smoker column\n",
        "smoker_unique = []\n",
        "for smk in smoker:\n",
        "    if smk not in smoker_unique:\n",
        "        smoker_unique.append(smk)\n",
        "print(smoker_unique)"
      ],
      "metadata": {
        "colab": {
          "base_uri": "https://localhost:8080/"
        },
        "id": "wV83j68op5x2",
        "outputId": "0947556d-8246-42ce-acd2-54f93f35bb03"
      },
      "execution_count": 14,
      "outputs": [
        {
          "output_type": "stream",
          "name": "stdout",
          "text": [
            "['yes', 'no']\n"
          ]
        }
      ]
    },
    {
      "cell_type": "code",
      "source": [
        "smoker_yes = smoker.count('yes')\n",
        "smoker_yes_pct = round(smoker_yes/total_population*100,2)\n",
        "\n",
        "print(\"{smoker} peopele are smoker, which is {pct}% of total population\"\n",
        "      .format(smoker=smoker_yes, pct=smoker_yes_pct))"
      ],
      "metadata": {
        "colab": {
          "base_uri": "https://localhost:8080/"
        },
        "id": "UgYscKuJqOk_",
        "outputId": "bd3ecacf-a50c-42a0-bc8a-4902b7cbea6a"
      },
      "execution_count": 15,
      "outputs": [
        {
          "output_type": "stream",
          "name": "stdout",
          "text": [
            "274 peopele are smoker, which is 20.48% of total population\n"
          ]
        }
      ]
    },
    {
      "cell_type": "markdown",
      "source": [
        "Moving forward to **numerical columns**, let's start with age."
      ],
      "metadata": {
        "id": "DM2UJUEOrGKT"
      }
    },
    {
      "cell_type": "markdown",
      "source": [
        "# **Age Distribution**"
      ],
      "metadata": {
        "id": "vWMsOQAlrN8h"
      }
    },
    {
      "cell_type": "code",
      "source": [
        "age_min = min (age)\n",
        "age_max = max (age)\n",
        "age_avg = round(sum(age)/total_population,2)\n",
        "print (\"The average in the population is {age} years old\".format(age=age_min))\n",
        "print (\"The average in the population is {age} years old\".format(age=age_max))\n",
        "print (\"The average in the population is {age} years old\".format(age=age_avg))"
      ],
      "metadata": {
        "colab": {
          "base_uri": "https://localhost:8080/"
        },
        "id": "2y7OwmQHsRSp",
        "outputId": "4011eeec-9716-465e-eaa0-9dfb7314762a"
      },
      "execution_count": 16,
      "outputs": [
        {
          "output_type": "stream",
          "name": "stdout",
          "text": [
            "The average in the population is 18 years old\n",
            "The average in the population is 64 years old\n",
            "The average in the population is 39.21 years old\n"
          ]
        }
      ]
    },
    {
      "cell_type": "markdown",
      "source": [
        "# **Children Distribution**"
      ],
      "metadata": {
        "id": "LIgqyI3BpFLZ"
      }
    },
    {
      "cell_type": "code",
      "source": [
        "no_child = children.count(0)\n",
        "has_child = total_population - no_child\n",
        "no_child_pct = round(no_child/total_population*100,2)\n",
        "has_child_pct = round(has_child/total_population*100,2)\n",
        "print(\"{pct}% od population has no children ({count} in total)\".format(pct=no_child_pct, count=no_child))\n",
        "print(\"{pct}% od population has children ({count} in total)\".format(pct=has_child_pct, count=has_child))"
      ],
      "metadata": {
        "id": "Q4al1E4JrQzb",
        "colab": {
          "base_uri": "https://localhost:8080/"
        },
        "outputId": "e41fa3ac-42a9-470a-daa1-dc8b5cac55f3"
      },
      "execution_count": 17,
      "outputs": [
        {
          "output_type": "stream",
          "name": "stdout",
          "text": [
            "42.9% od population has no children (574 in total)\n",
            "57.1% od population has children (764 in total)\n"
          ]
        }
      ]
    },
    {
      "cell_type": "markdown",
      "source": [
        "Let's break it down to be more detailed"
      ],
      "metadata": {
        "id": "MHxNS4pFqvIQ"
      }
    },
    {
      "cell_type": "code",
      "source": [
        "# check number of child\n",
        "child_range = []\n",
        "for child in children:\n",
        "    if child not in child_range:\n",
        "        child_range.append(child)\n",
        "        child_range.sort()\n",
        "print(child_range)"
      ],
      "metadata": {
        "colab": {
          "base_uri": "https://localhost:8080/"
        },
        "id": "gMceIhUKq1qg",
        "outputId": "c0ca8a42-b122-4354-e68d-62a437b2f7c9"
      },
      "execution_count": 18,
      "outputs": [
        {
          "output_type": "stream",
          "name": "stdout",
          "text": [
            "[0, 1, 2, 3, 4, 5]\n"
          ]
        }
      ]
    },
    {
      "cell_type": "markdown",
      "source": [
        "Because the number of unique values in children is not too high, we can also perceive it as numerical and categorical columns. Let's check the average first"
      ],
      "metadata": {
        "id": "_BXlL_b2rdZx"
      }
    },
    {
      "cell_type": "code",
      "source": [
        "average_children = round(sum(children)/total_population,2)\n",
        "print(average_children)"
      ],
      "metadata": {
        "colab": {
          "base_uri": "https://localhost:8080/"
        },
        "id": "SOwHx5QSrreT",
        "outputId": "46978bab-dfac-4b1f-8807-10c0e99853a2"
      },
      "execution_count": 19,
      "outputs": [
        {
          "output_type": "stream",
          "name": "stdout",
          "text": [
            "1.09\n"
          ]
        }
      ]
    },
    {
      "cell_type": "markdown",
      "source": [
        "On average, each individual has 1 children"
      ],
      "metadata": {
        "id": "Ie_HGe0hr3Hi"
      }
    },
    {
      "cell_type": "code",
      "source": [
        "no_child = children.count(0)\n",
        "child_1 = children.count(1)\n",
        "child_2 = children.count(2)\n",
        "child_3 = children.count(3)\n",
        "child_4 = children.count(4)\n",
        "child_5 = children.count(5)\n",
        "\n",
        "no_child_pct = round(no_child/total_population*100,2)\n",
        "child_1_pct = round(child_1/total_population*100,2)\n",
        "child_2_pct = round(child_2/total_population*100,2)\n",
        "child_3_pct = round(child_3/total_population*100,2)\n",
        "child_4_pct = round(child_4/total_population*100,2)\n",
        "child_5_pct = round(child_5/total_population*100,2)\n",
        "\n",
        "print(\"{pct} of population has no children ({count} in total)\".format(pct=no_child_pct, count=no_child))\n",
        "print(\"{pct} of population has no children ({count} in total)\".format(pct=child_1_pct, count=child_1))\n",
        "print(\"{pct} of population has no children ({count} in total)\".format(pct=child_2_pct, count=child_2))\n",
        "print(\"{pct} of population has no children ({count} in total)\".format(pct=child_3_pct, count=child_3))\n",
        "print(\"{pct} of population has no children ({count} in total)\".format(pct=child_4_pct, count=child_4))\n",
        "print(\"{pct} of population has no children ({count} in total)\".format(pct=child_5_pct, count=child_5))"
      ],
      "metadata": {
        "colab": {
          "base_uri": "https://localhost:8080/"
        },
        "id": "jKP2rnqVr7EW",
        "outputId": "72e81a3a-a522-4aa4-af0e-a4f16ba9c737"
      },
      "execution_count": 20,
      "outputs": [
        {
          "output_type": "stream",
          "name": "stdout",
          "text": [
            "42.9 of population has no children (574 in total)\n",
            "24.22 of population has no children (324 in total)\n",
            "17.94 of population has no children (240 in total)\n",
            "11.73 of population has no children (157 in total)\n",
            "1.87 of population has no children (25 in total)\n",
            "1.35 of population has no children (18 in total)\n"
          ]
        }
      ]
    },
    {
      "cell_type": "markdown",
      "source": [
        "Majority of individual have 0 children. ALso, as the number of children, the number of individual decrease."
      ],
      "metadata": {
        "id": "UPKZSEVQtoF5"
      }
    },
    {
      "cell_type": "markdown",
      "source": [
        "# **Charges Distribution**"
      ],
      "metadata": {
        "id": "WuuOYRqtt1Pn"
      }
    },
    {
      "cell_type": "code",
      "source": [
        "charges_min = round(min(charges),2)\n",
        "charges_max = round(max(charges),2)\n",
        "charges_avg = round(sum(charges)/total_population,2)\n",
        "print(\"The minimum insurance cost in the population is {cost} dollars\".format(cost=charges_min))\n",
        "print(\"The maximum insurance cost in the population is {cost} dollars\".format(cost=charges_max))\n",
        "print(\"The average insurance cost in the population is {cost} dollars\".format(cost=charges_avg))"
      ],
      "metadata": {
        "colab": {
          "base_uri": "https://localhost:8080/"
        },
        "id": "GoA2nNIst5Be",
        "outputId": "416d755f-b1ce-4bf3-abd1-d65edb76534e"
      },
      "execution_count": 21,
      "outputs": [
        {
          "output_type": "stream",
          "name": "stdout",
          "text": [
            "The minimum insurance cost in the population is 1121.87 dollars\n",
            "The maximum insurance cost in the population is 63770.43 dollars\n",
            "The average insurance cost in the population is 13270.42 dollars\n"
          ]
        }
      ]
    },
    {
      "cell_type": "markdown",
      "source": [
        "Analyzing The Dataset\n",
        "\n",
        "---\n",
        "The first and most crucial step that defines how the data science project progress is determining the question. **What question we want to answer with this dataset?**\n",
        "\n",
        "We are looking at medical insurance cost dataset and some variables that may affect it. Early on this project, we have a theory use, which we can identify in our dataset as smoker variable.\n",
        "\n",
        "Let's define some question we will answer our dataset:\n",
        "\n",
        "1. Does age factors in one's medical insurance cost?\n",
        "2. Does BMI affect one's medical insurance cost?\n",
        "3. Smoking is major being smoker increse their medical insurance charges?\n",
        "\n",
        "Let's analyze!!\n",
        "\n"
      ],
      "metadata": {
        "id": "uS3O8p0bu3Bv"
      }
    },
    {
      "cell_type": "markdown",
      "source": [
        "# **Effect of Age on Medical Insurance Charges**"
      ],
      "metadata": {
        "id": "-Bra8JWTv5iD"
      }
    },
    {
      "cell_type": "code",
      "source": [
        "print(age_min)\n",
        "print(age_max)"
      ],
      "metadata": {
        "colab": {
          "base_uri": "https://localhost:8080/"
        },
        "id": "2wg7TMm2v_Nf",
        "outputId": "4f030ffc-24f9-44c3-b688-a389a69afa95"
      },
      "execution_count": 22,
      "outputs": [
        {
          "output_type": "stream",
          "name": "stdout",
          "text": [
            "18\n",
            "64\n"
          ]
        }
      ]
    },
    {
      "cell_type": "markdown",
      "source": [
        "The population age are ranging from 18 to 64. Let's classify it to small category to make analyzing easier. We will dicide it into 5 groups:\n",
        "\n",
        "* Group 1 : 18-27 years old\n",
        "\n",
        "* Group 2 : 28-37 years old\n",
        "\n",
        "* Group 3 : 38-47 years old\n",
        "\n",
        "* Group 4 : 48-57 years old\n",
        "\n",
        "* Group 5 : 58 years old or above "
      ],
      "metadata": {
        "id": "0UmaBtvuwFjq"
      }
    },
    {
      "cell_type": "code",
      "source": [
        "# create list for each age group\n",
        "age_g1 = []\n",
        "age_g2 = []\n",
        "age_g3 = []\n",
        "age_g4 = []\n",
        "age_g5 = []\n",
        "\n",
        "# create insurance charges list for each age group\n",
        "age_g1_charges = []\n",
        "age_g2_charges = []\n",
        "age_g3_charges = []\n",
        "age_g4_charges = []\n",
        "age_g5_charges = []\n",
        "\n",
        "num = 0 \n",
        "while num < len (age):\n",
        "    if age[num] >= 18 and age[num] <= 27:\n",
        "        age_g1.append(age[num])\n",
        "        age_g1_charges.append(charges[num])\n",
        "    elif age[num] >= 28 and age[num] <= 37:\n",
        "        age_g2.append(age[num])\n",
        "        age_g2_charges.append(charges[num])\n",
        "    elif age[num] >= 38 and age[num] <= 47:\n",
        "        age_g3.append(age[num])\n",
        "        age_g3_charges.append(charges[num])  \n",
        "    elif age[num] >= 48 and age[num] <= 57:\n",
        "        age_g4.append(age[num])\n",
        "        age_g4_charges.append(charges[num])  \n",
        "    else: \n",
        "        age_g5.append(age[num])\n",
        "        age_g5_charges.append(charges[num])\n",
        "    num += 1\n",
        "\n",
        "# count the individuals in each group\n",
        "len_g1 = len(age_g1)\n",
        "len_g2 = len(age_g2)\n",
        "len_g3 = len(age_g3)\n",
        "len_g4 = len(age_g4)\n",
        "len_g5 = len(age_g5)\n",
        "\n",
        "print(\"There are {} people with age from 18 to 27 years old\".format(len_g1))\n",
        "print(\"There are {} people with age from 28 to 37 years old\".format(len_g2))\n",
        "print(\"There are {} people with age from 38 to 47 years old\".format(len_g3))\n",
        "print(\"There are {} people with age from 48 to 57 years old\".format(len_g4))\n",
        "print(\"There are {} people with age 58 years old or above\".format(len_g5))"
      ],
      "metadata": {
        "colab": {
          "base_uri": "https://localhost:8080/"
        },
        "id": "9MdoIZBLwrj6",
        "outputId": "d44a7b53-52c7-4c7e-bdf6-dfbeeea6cb07"
      },
      "execution_count": 23,
      "outputs": [
        {
          "output_type": "stream",
          "name": "stdout",
          "text": [
            "There are 362 people with age from 18 to 27 years old\n",
            "There are 262 people with age from 28 to 37 years old\n",
            "There are 272 people with age from 38 to 47 years old\n",
            "There are 278 people with age from 48 to 57 years old\n",
            "There are 164 people with age 58 years old or above\n"
          ]
        }
      ]
    },
    {
      "cell_type": "markdown",
      "source": [
        "Number of people on with age group 2,3, and 4 are quite similar. While group 1 is about 100 people more and group 5 is about 100 people less."
      ],
      "metadata": {
        "id": "kFaWC311ywL6"
      }
    },
    {
      "cell_type": "code",
      "source": [
        "age_g1_avg_charges = round(sum(age_g1_charges)/len_g1,2)\n",
        "age_g2_avg_charges = round(sum(age_g2_charges)/len_g2,2)\n",
        "age_g3_avg_charges = round(sum(age_g3_charges)/len_g3,2)\n",
        "age_g4_avg_charges = round(sum(age_g4_charges)/len_g4,2)\n",
        "age_g5_avg_charges = round(sum(age_g5_charges)/len_g5,2)\n",
        "\n",
        "print(\"Average insurance cost for individual with age from 18 to 27 years old is {} dollars\".format(age_g1_avg_charges))\n",
        "print(\"Average insurance cost for individual with age from 28 to 37 years old is {} dollars\".format(age_g2_avg_charges))\n",
        "print(\"Average insurance cost for individual with age from 38 to 47 years old is {} dollars\".format(age_g3_avg_charges))\n",
        "print(\"Average insurance cost for individual with age from 48 to 57 years old is {} dollars\".format(age_g4_avg_charges))\n",
        "print(\"Average insurance cost for individual with age 58 years old or above is {} dollars\".format(age_g5_avg_charges))"
      ],
      "metadata": {
        "colab": {
          "base_uri": "https://localhost:8080/"
        },
        "id": "EJJDvJd9zCEb",
        "outputId": "222c3c52-6cfd-45ee-cbde-0e73b76424ef"
      },
      "execution_count": 24,
      "outputs": [
        {
          "output_type": "stream",
          "name": "stdout",
          "text": [
            "Average insurance cost for individual with age from 18 to 27 years old is 9098.19 dollars\n",
            "Average insurance cost for individual with age from 28 to 37 years old is 11661.81 dollars\n",
            "Average insurance cost for individual with age from 38 to 47 years old is 13730.04 dollars\n",
            "Average insurance cost for individual with age from 48 to 57 years old is 15937.66 dollars\n",
            "Average insurance cost for individual with age 58 years old or above is 19766.12 dollars\n"
          ]
        }
      ]
    },
    {
      "cell_type": "markdown",
      "source": [
        "Our analysis shows that individuals in the group with lowest age (18 to 27 years old) has the lowest average insurance charges of all age groups at 9,098 dollars. On the contrary, the individuals in the group with highest age (58 years old above) has the highest average insurance charges at 19,766 dollars. The increment is more than twice the cost.\n",
        "\n",
        "We can also see that an increase from group 1 to group 4 is roughly the same at 2000 dollars. But the increase from group 4 to group 5 shows quite a jump at 4000 dollars. Also about twice the differece.\n",
        "\n",
        "One major factor in determining charges in health insurance is age. This is because as one ages, it means a higher chance of mortality, hospitalization and medical expenses. Also, as the older on gets, the more difficult it is to determine their risk factors and health-related expenses.\n",
        "\n",
        "So in general, the higher the age of a person, the higher insurance cost he/she will be charged."
      ],
      "metadata": {
        "id": "cHV0LQ5X1m0A"
      }
    },
    {
      "cell_type": "markdown",
      "source": [
        "# **Effect of BMI on Medical Insurance Cost**\n",
        "\n",
        "BMI or Body Mass Index is a measurement that uses the height of the person to determine the suitable wieght for the person. More often than not, BMI also accurately predicts the bofy fat percentage for that person. Therefore, a person with a high BMI has more body and vice versa. While using BMI as health indicator is debateable, for the sake analysis, we will analyze the factor on insurance cost.\n",
        "\n",
        "We will devide BMI to several groups:\n",
        "1. Underweight : BMI below 18.5\n",
        "2. Normal : BMI 18.5 - 24.9\n",
        "3. Overweight : BMI 25.0 - 29.9\n",
        "4. Obese : BMI above 30.0"
      ],
      "metadata": {
        "id": "JggHoYet33FV"
      }
    },
    {
      "cell_type": "code",
      "source": [
        "# create list for each bmi group \n",
        "\n",
        "bmi_underweight = []\n",
        "bmi_normal = []\n",
        "bmi_overweight = []\n",
        "bmi_obese = []\n",
        "\n",
        "# create insurance charges list for each bmi group\n",
        "bmi_underweight_charges = []\n",
        "bmi_normal_charges = []\n",
        "bmi_overweight_charges = []\n",
        "bmi_obese_charges = []\n",
        "\n",
        "num =0\n",
        "while num < len(bmi):\n",
        "    if bmi[num] <= 18.5:\n",
        "        bmi_underweight.append(bmi[num])\n",
        "        bmi_underweight_charges.append(charges[num])\n",
        "    if bmi[num] > 18.5 and bmi[num] <= 24.9:\n",
        "        bmi_normal.append(bmi[num])\n",
        "        bmi_normal_charges.append(charges[num])\n",
        "    if bmi[num] > 24.9 and bmi[num] <= 29.9:\n",
        "        bmi_overweight.append(bmi[num])\n",
        "        bmi_overweight_charges.append(charges[num])\n",
        "    else:\n",
        "        bmi_obese.append(bmi[num])\n",
        "        bmi_obese_charges.append(charges[num])\n",
        "    num += 1\n",
        "\n",
        "# count thr individuals in each group\n",
        "len_underweight = len(bmi_underweight)\n",
        "len_normal = len(bmi_normal)\n",
        "len_overweight = len(bmi_overweight)\n",
        "len_obese = len(bmi_obese)\n",
        "\n",
        "print(\"There are {} peopele with underweight status\".format(len_underweight))\n",
        "print(\"There are {} peopele with normal weight status\".format(len_normal))\n",
        "print(\"There are {} peopele with overweight status\".format(len_overweight))\n",
        "print(\"There are {} peopele with obese status\".format(len_obese))"
      ],
      "metadata": {
        "colab": {
          "base_uri": "https://localhost:8080/"
        },
        "id": "2aaQTlCd45gH",
        "outputId": "0c7bf9f1-00d9-4756-ed5d-20524073a7ff"
      },
      "execution_count": 25,
      "outputs": [
        {
          "output_type": "stream",
          "name": "stdout",
          "text": [
            "There are 21 peopele with underweight status\n",
            "There are 221 peopele with normal weight status\n",
            "There are 380 peopele with overweight status\n",
            "There are 958 peopele with obese status\n"
          ]
        }
      ]
    },
    {
      "cell_type": "markdown",
      "source": [
        "More than half people of the population belong to obese status by BMI"
      ],
      "metadata": {
        "id": "_5lkjHRAIIsl"
      }
    },
    {
      "cell_type": "code",
      "source": [
        "underweight_avg_charges = round(sum(bmi_underweight_charges)/len_underweight,2)\n",
        "normal_avg_charges = round(sum(bmi_normal_charges)/len_normal,2)\n",
        "overweight_avg_charges = round(sum(bmi_overweight_charges)/len_overweight,2)\n",
        "obese_avg_charges = round(sum(bmi_obese_charges)/len_obese,2)\n",
        "\n",
        "print(\"Average insurance cost for individuals with underweight status is {} dollars\".format(len_underweight))\n",
        "print(\"Average insurance cost for individuals with normal status is {} dollars\".format(len_normal))\n",
        "print(\"Average insurance cost for individuals with overweight status is {} dollars\".format(len_overweight))\n",
        "print(\"Average insurance cost for individuals with obese status is {} dollars\".format(len_obese))"
      ],
      "metadata": {
        "colab": {
          "base_uri": "https://localhost:8080/"
        },
        "id": "bvKAnaN9IVzv",
        "outputId": "99731114-4b89-44f4-c37b-77554c67d27b"
      },
      "execution_count": 26,
      "outputs": [
        {
          "output_type": "stream",
          "name": "stdout",
          "text": [
            "Average insurance cost for individuals with underweight status is 21 dollars\n",
            "Average insurance cost for individuals with normal status is 221 dollars\n",
            "Average insurance cost for individuals with overweight status is 380 dollars\n",
            "Average insurance cost for individuals with obese status is 958 dollars\n"
          ]
        }
      ]
    },
    {
      "cell_type": "markdown",
      "source": [
        "We can see that people in obese status have highest insurance cost compared to other weight groups. Underweight has the lowest average cost, and normal and overweight status has pretty close average insurance cost.\n",
        "\n",
        " BMI is not a perfect measure because it does not directly assess body fat. Muscle and bone are denser than fat, so an athlete or muscular person may have a high BMI, yet not have too much fat. But most people are not athletes, and for most people, BMI is a very good gauge of their level of body fat.\n",
        "\n",
        "Why an individual with higher BMI (especially in the obese weight category) pays more insurance charges? With BMI in the extremes, the individual has a higher chance of making frequent visits to the hospitals owing to ill health, which translates to higher medical expenditure on the part of the insurance company. Hence, the higher the estimated expenditure on health-related issues, the higher will be the life insurance premiums. \n",
        "\n",
        "Our analysis proves that individual with higher bmi likely has higher insurance cost. To have lower insurance cost, it is advised to keep bmi at normal level and avoid the overweight and obese range."
      ],
      "metadata": {
        "id": "ilq55HlwJcck"
      }
    },
    {
      "cell_type": "markdown",
      "source": [
        "# **Effect of Smoking Status on Insurance Charges**"
      ],
      "metadata": {
        "id": "CDCc5PYxJrYw"
      }
    },
    {
      "cell_type": "code",
      "source": [
        "print(\"There are of {smoker} smoker in our dataset, which is {pct}% of population\".format(\n",
        "    smoker=smoker_yes,pct=smoker_yes_pct))"
      ],
      "metadata": {
        "colab": {
          "base_uri": "https://localhost:8080/"
        },
        "id": "W0ecdwwbJw30",
        "outputId": "6fff5e82-3087-4e83-a73b-d9aa6a0a8ca2"
      },
      "execution_count": 27,
      "outputs": [
        {
          "output_type": "stream",
          "name": "stdout",
          "text": [
            "There are of 274 smoker in our dataset, which is 20.48% of population\n"
          ]
        }
      ]
    },
    {
      "cell_type": "code",
      "source": [
        "# create lists for smoker and non-smoker\n",
        "smoker_count = []\n",
        "non_smoker_count = []\n",
        "\n",
        "# create lists for smoker and non-smoker charges\n",
        "smoker_charges = []\n",
        "non_smoker_charges = []\n",
        "\n",
        "num = 0\n",
        "while num < len(smoker):\n",
        "    if smoker[num] == \"yes\":\n",
        "        smoker_count.append(smoker[num])\n",
        "        smoker_charges.append(charges[num])\n",
        "    else:\n",
        "        non_smoker_count.append(smoker[num])\n",
        "        non_smoker_charges.append(charges[num])\n",
        "    num += 1\n",
        "    \n",
        "# count individuals in each group\n",
        "len_smoker = len(smoker_count)\n",
        "len_non_smoker = len(non_smoker_count)\n",
        "        \n",
        "smoker_pct = round(len(smoker_count)/total_population*100, 2)\n",
        "non_smoker_pct = round(len(non_smoker_count)/total_population*100, 2)\n",
        "\n",
        "print(\"There are {count} smoker in our dataset, which is {pct}% of population\".format\n",
        "     (count=len_smoker, pct=smoker_pct))\n",
        "print(\"There are {count} non-smoker in our dataset, which is {pct}% of population\".format\n",
        "     (count=len_non_smoker, pct=non_smoker_pct))"
      ],
      "metadata": {
        "colab": {
          "base_uri": "https://localhost:8080/"
        },
        "id": "Nz7VABJ0J40K",
        "outputId": "dee79aef-17b4-46cb-d9ac-8bd8cc150c90"
      },
      "execution_count": 28,
      "outputs": [
        {
          "output_type": "stream",
          "name": "stdout",
          "text": [
            "There are 274 smoker in our dataset, which is 20.48% of population\n",
            "There are 1064 non-smoker in our dataset, which is 79.52% of population\n"
          ]
        }
      ]
    },
    {
      "cell_type": "code",
      "source": [
        "average_smoker_charges = round(sum(smoker_charges)/len_smoker, 2)\n",
        "average_non_smoker_charges = round(sum(non_smoker_charges)/len_non_smoker, 2)\n",
        "smoke_charges_difference = round(average_smoker_charges / average_non_smoker_charges*100, 1)\n",
        "\n",
        "print(\"Average insurance cost for smoker is {} dollars\".format(average_smoker_charges))\n",
        "print(\"Average insurance cost for non-smoker is {} dollars\".format(average_non_smoker_charges))\n",
        "print(\"Individual whom smoke has {}% higher charges than those who doesn't\".format(int(smoke_charges_difference)))"
      ],
      "metadata": {
        "colab": {
          "base_uri": "https://localhost:8080/"
        },
        "id": "HXlp11yHJ7A4",
        "outputId": "6079f245-f170-4d11-b5f5-aab26ea7f427"
      },
      "execution_count": 29,
      "outputs": [
        {
          "output_type": "stream",
          "name": "stdout",
          "text": [
            "Average insurance cost for smoker is 32050.23 dollars\n",
            "Average insurance cost for non-smoker is 8434.27 dollars\n",
            "Individual whom smoke has 380% higher charges than those who doesn't\n"
          ]
        }
      ]
    },
    {
      "cell_type": "markdown",
      "source": [
        "Our early hypothesis that smoker has higher medical cost than non-smoker is found to be true. **Smokers can pay up to three times more for insurance cost**"
      ],
      "metadata": {
        "id": "LS-kei9rJ-qz"
      }
    },
    {
      "cell_type": "markdown",
      "source": [
        "For next analysis we will look at insurance cost difference for male and female who smoke and doesn't smoke."
      ],
      "metadata": {
        "id": "PNK_GRhsKBpv"
      }
    },
    {
      "cell_type": "code",
      "source": [
        "# create lists for male and female smoker and non-smoker\n",
        "male_smoker = []\n",
        "female_smoker = []\n",
        "male_non_smoker = []\n",
        "female_non_smoker = []\n",
        "\n",
        "# create lists for each category charges\n",
        "male_smoker_charges = []\n",
        "female_smoker_charges = []\n",
        "male_non_smoker_charges = []\n",
        "female_non_smoker_charges = []\n",
        "\n",
        "num = 0\n",
        "while num < len(sex):\n",
        "    if sex[num] == \"male\":\n",
        "        if smoker[num] == \"yes\":\n",
        "            male_smoker.append(sex[num])\n",
        "            male_smoker_charges.append(charges[num])\n",
        "        else:\n",
        "            male_non_smoker.append(sex[num])\n",
        "            male_non_smoker_charges.append(charges[num])\n",
        "    elif sex[num] == \"female\":\n",
        "        if smoker[num] == \"yes\":\n",
        "            female_smoker.append(sex[num])\n",
        "            female_smoker_charges.append(charges[num])\n",
        "        else:\n",
        "            female_non_smoker.append(sex[num])\n",
        "            female_non_smoker_charges.append(charges[num])\n",
        "    num += 1\n",
        "\n",
        "print(\"{} individual are male smoker\".format(len(male_smoker)))\n",
        "print(\"{} individual are female smoker\".format(len(female_smoker)))\n",
        "print(\"{} individual are male non-smoker\".format(len(male_non_smoker)))\n",
        "print(\"{} individual are female non-smoker\".format(len(female_non_smoker)))"
      ],
      "metadata": {
        "colab": {
          "base_uri": "https://localhost:8080/"
        },
        "id": "w2vBG5vAKDbr",
        "outputId": "43cb9cb9-b82a-4d3d-8255-255f3d403964"
      },
      "execution_count": 30,
      "outputs": [
        {
          "output_type": "stream",
          "name": "stdout",
          "text": [
            "159 individual are male smoker\n",
            "115 individual are female smoker\n",
            "517 individual are male non-smoker\n",
            "547 individual are female non-smoker\n"
          ]
        }
      ]
    },
    {
      "cell_type": "code",
      "source": [
        "average_male_smoker_charges = round(sum(male_smoker_charges)/len(male_smoker_charges), 2)\n",
        "average_female_smoker_charges = round(sum(female_smoker_charges)/len(female_smoker_charges), 2)\n",
        "average_male_non_smoker_charges = round(sum(male_non_smoker_charges)/len(male_non_smoker_charges), 2)\n",
        "average_female_non_smoker_charges = round(sum(female_non_smoker_charges)/len(female_non_smoker_charges), 2)\n",
        "\n",
        "print(\"Average charges for male smoker is {}\".format(average_male_smoker_charges))\n",
        "print(\"Average charges for female smoker is {}\".format(average_female_smoker_charges))\n",
        "print(\"Average charges for male non-smoker is {}\".format(average_male_non_smoker_charges))\n",
        "print(\"Average charges for female non-smoker is {}\".format(average_female_non_smoker_charges))"
      ],
      "metadata": {
        "colab": {
          "base_uri": "https://localhost:8080/"
        },
        "id": "mdDGeXppKFmy",
        "outputId": "2e0f3bab-0c1e-4ff5-cf4c-cabd058c3875"
      },
      "execution_count": 31,
      "outputs": [
        {
          "output_type": "stream",
          "name": "stdout",
          "text": [
            "Average charges for male smoker is 33042.01\n",
            "Average charges for female smoker is 30679.0\n",
            "Average charges for male non-smoker is 8087.2\n",
            "Average charges for female non-smoker is 8762.3\n"
          ]
        }
      ]
    },
    {
      "cell_type": "markdown",
      "source": [
        "The average cost for male smokers is higher than that of female smoker. Interestingly, though, for non-smoker the average insurance cost is higher for female than male. One possible reason for this is because women are more likely to go to the doctor and take prescriptions, especially during their reproductive ages between 15 and 44 "
      ],
      "metadata": {
        "id": "qRl8k8NgKJJp"
      }
    },
    {
      "cell_type": "markdown",
      "source": [
        "This also raise a question. Though female non-smoker has higher insurance cost than male non-smoker due to possible reason above, the opposite happens for male and female smoker. Does this means smoking has greater effect to insurance cost than sex? Or smoking causes more diseases for male than female? This is an example of hypotheses that can be formed by looking at our dataset."
      ],
      "metadata": {
        "id": "ZRgFdgp_KLHG"
      }
    },
    {
      "cell_type": "markdown",
      "source": [
        "# **Conclusions**\n",
        "\n",
        "---\n",
        "\n",
        "Through working on this dataset, we've found some interesting conclusions:\n",
        "\n",
        "* Age factors in one's medical insurance cost. In general, higher age individual will pay more insurance cost.\n",
        "* The average insurance cost is lower for those with normal bmi opposed to overweight and obese bmi.\n",
        "* Smoking significantly affect medical insurance cost. The average cost difference can reach up to 380%."
      ],
      "metadata": {
        "id": "BrXteY8eKLO1"
      }
    },
    {
      "cell_type": "markdown",
      "source": [
        "# **Future Directions**\n",
        "\n",
        "---\n",
        "Some interesting questions to look in the future might be:\n",
        "\n",
        "* Does people in different region has difference in insurance cost?\n",
        "* Why female non-smokers has higher insurance cost than male non-smokers?\n",
        "* Is smoking has more significant effect to insurance cost than sex?\n"
      ],
      "metadata": {
        "id": "Qhg4Ac32KW3J"
      }
    }
  ]
}