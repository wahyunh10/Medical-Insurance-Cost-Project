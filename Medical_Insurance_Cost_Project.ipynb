{
  "nbformat": 4,
  "nbformat_minor": 0,
  "metadata": {
    "colab": {
      "name": "Medical Insurance Cost Project.ipynb",
      "provenance": [],
      "authorship_tag": "ABX9TyNnoFua0+yOoHNAgYGlWw/2",
      "include_colab_link": true
    },
    "kernelspec": {
      "name": "python3",
      "display_name": "Python 3"
    },
    "language_info": {
      "name": "python"
    }
  },
  "cells": [
    {
      "cell_type": "markdown",
      "metadata": {
        "id": "view-in-github",
        "colab_type": "text"
      },
      "source": [
        "<a href=\"https://colab.research.google.com/github/wahyunh10/Medical-Insurance-Cost-Project/blob/main/Medical_Insurance_Cost_Project.ipynb\" target=\"_parent\"><img src=\"https://colab.research.google.com/assets/colab-badge.svg\" alt=\"Open In Colab\"/></a>"
      ]
    },
    {
      "cell_type": "markdown",
      "source": [
        "# **Medical Insurance Cost Project**"
      ],
      "metadata": {
        "id": "J7HIJITspaTH"
      }
    },
    {
      "cell_type": "markdown",
      "source": [
        "# **About The Project**\n",
        "\n",
        "---\n",
        "\n"
      ],
      "metadata": {
        "id": "Jo49q1R4pgJk"
      }
    },
    {
      "cell_type": "markdown",
      "source": [
        "In 2019, the number of people with health insurance in the United State was close to 300 milion, about 92 percent of the population. Across the United States, Americans pay different premiums monthly for health insurance. The cost of medical insurance can very based on certain factors. Some of the factor that accoount for costs are age, location, tobacco use, dependents and plan category.\n",
        "\n",
        "In this project, we will analyze individual medical insurance cost and variables that may affect it. This project goal are to:\n",
        "\n",
        "* Analyze multiple variables in meaningful ways that will provide insight into the dataset\n",
        "* Implement Data Analys skill in a real-world scenario\n",
        "* Utilize Python to model this data in a way that is digestible\n",
        "\n",
        "Each section of this notebook will contain code that is being used to analyzw the dataset, as well as any findings. The aims is to provide both insights into the data while also showingcasing coding and data analysis skill."
      ],
      "metadata": {
        "id": "ht2ukYmrpTVL"
      }
    },
    {
      "cell_type": "markdown",
      "source": [
        "# **The Dataset**\n",
        "\n",
        "---\n",
        "\n"
      ],
      "metadata": {
        "id": "NqYSTxlOpnsH"
      }
    },
    {
      "cell_type": "markdown",
      "source": [
        "The dataset is obtained from [Kaggle dataset](https://www.kaggle.com/datasets/mirichoi0218/insurance). The dataset consist of 7 columns.\n",
        "\n",
        "* `age`: age of primary beneficiary\n",
        "* `sex`: insurance contractor gender, male or female\n",
        "* `bmi`: body mass index, providing an understandg of body, weights that relatively high or low relative to height, objective index of body weight (kg/m^2) using the ratio of height to weight\n",
        "* `children`: number of children covered by health insurance/number if dependents\n",
        "* `smoker`: is the beneficiary smoking ? yes or no\n",
        "* `region`: the beneficiary's residential area in the US; northeast southeast southwest, northwest\n",
        "* `charges`: indiidual medical cost billed by health insurance in USD"
      ],
      "metadata": {
        "id": "HBreO0HTpqlh"
      }
    },
    {
      "cell_type": "markdown",
      "source": [
        "# **Import The Dataset**\n",
        "\n",
        "---\n",
        "\n",
        "Before begin analyzing our dataset, the first thing we have to do  is import the dataset. Then we can see the header and example of row in the dataset. For example, we will take the first row.\n",
        "\n",
        "\n"
      ],
      "metadata": {
        "id": "w7w6zXlxsOcZ"
      }
    },
    {
      "cell_type": "code",
      "source": [
        "import csv\n",
        "\n",
        "with open('insurance.csv', newline='') as insurance_csv:\n",
        "    csv_reader = csv.reader(insurance_csv)\n",
        "    csv_headings = next(csv_reader)\n",
        "    first_line = next(csv_reader)\n",
        "    print(csv_headings)\n",
        "    print(first_line)"
      ],
      "metadata": {
        "colab": {
          "base_uri": "https://localhost:8080/"
        },
        "id": "pwe8P_paEZeC",
        "outputId": "13ac301b-089c-424b-8ebd-ce032f444a00"
      },
      "execution_count": 1,
      "outputs": [
        {
          "output_type": "stream",
          "name": "stdout",
          "text": [
            "['age', 'sex', 'bmi', 'children', 'smoker', 'region', 'charges']\n",
            "['19', 'female', '27.9', '0', 'yes', 'southwest', '16884.924']\n"
          ]
        }
      ]
    },
    {
      "cell_type": "markdown",
      "source": [
        "From example above, we can see the insurance_csv file has 7 columns. We can also decide the data type for each column; `age` and `children` are integers, `bmi` and `charges` are floats, and `sex`, `smoker` and `region` are strings.\n",
        "\n",
        "We will make separate list for each column.\n"
      ],
      "metadata": {
        "id": "pa-pkUHCFQ5X"
      }
    },
    {
      "cell_type": "code",
      "source": [
        "# create list for each column\n",
        "age = []\n",
        "sex = []\n",
        "bmi = []\n",
        "children = []\n",
        "smoker = []\n",
        "region = []\n",
        "charges = []"
      ],
      "metadata": {
        "id": "ndZrPxHAF3u_"
      },
      "execution_count": 5,
      "outputs": []
    },
    {
      "cell_type": "code",
      "source": [
        "# read the dataset\n",
        "with open('insurance.csv', newline='') as insurance_csv:\n",
        "    insurance_dict = csv.DictReader(insurance_csv)\n",
        "    for data in insurance_dict: # append row from dictionary to list \n",
        "        age.append(int(data['age']))\n",
        "        sex.append(data['sex'])\n",
        "        bmi.append(float(data['bmi']))\n",
        "        children.append(int(data['children']))\n",
        "        smoker.append(data['smoker'])\n",
        "        region.append(data['region'])\n",
        "        charges.append(float(data['charges']))"
      ],
      "metadata": {
        "id": "dHNUAw-gIAbK"
      },
      "execution_count": 7,
      "outputs": []
    },
    {
      "cell_type": "markdown",
      "source": [
        "# **Investigating The Dataset**\n",
        "\n",
        "---\n",
        "\n",
        "Let's see if the dataset has missing data or not\n"
      ],
      "metadata": {
        "id": "blc1ildWIY5n"
      }
    },
    {
      "cell_type": "code",
      "source": [
        "from typing import List\n",
        "complete_list_dict = {'age' : age,\n",
        "                      'sex' : sex,\n",
        "                      'bmi' : children,\n",
        "                      'children' : children,\n",
        "                      'smoker' : smoker,\n",
        "                      'region' : region,\n",
        "                      'charges': smoker}\n",
        "\n",
        "for key in complete_list_dict:\n",
        "    print(\"The number of data in {key} list is {list_length}\".format(key=key, list_length=len(complete_list_dict[key])))"
      ],
      "metadata": {
        "colab": {
          "base_uri": "https://localhost:8080/"
        },
        "id": "SF5Q1CbfIiLH",
        "outputId": "a1f6be26-b87c-4af7-e0ee-3f575db776bf"
      },
      "execution_count": 29,
      "outputs": [
        {
          "output_type": "stream",
          "name": "stdout",
          "text": [
            "The number of data in age list is 1338\n",
            "The number of data in sex list is 1338\n",
            "The number of data in bmi list is 1338\n",
            "The number of data in children list is 1338\n",
            "The number of data in smoker list is 1338\n",
            "The number of data in region list is 1338\n",
            "The number of data in charges list is 1338\n"
          ]
        }
      ]
    },
    {
      "cell_type": "markdown",
      "source": [
        "There are 1338 data in all columns. Since the number is same across all columns, the are no missing data in the dataset"
      ],
      "metadata": {
        "id": "pre4aJ-SO-4g"
      }
    },
    {
      "cell_type": "code",
      "source": [
        "total_population = len(age)\n",
        "print(total_population)"
      ],
      "metadata": {
        "colab": {
          "base_uri": "https://localhost:8080/"
        },
        "id": "itvaf1E7PCPH",
        "outputId": "828f54f1-35b3-4885-8e4a-b3dda6eb64fd"
      },
      "execution_count": 30,
      "outputs": [
        {
          "output_type": "stream",
          "name": "stdout",
          "text": [
            "1338\n"
          ]
        }
      ]
    },
    {
      "cell_type": "markdown",
      "source": [
        "We have imported the dataset, now we can begin analyzing"
      ],
      "metadata": {
        "id": "fWYdKYo9Wccb"
      }
    },
    {
      "cell_type": "markdown",
      "source": [
        "# **Statistical Summary**\n",
        "\n",
        "---\n",
        "\n",
        "First, we can perform statistical analysis of data in each column.\n",
        "\n",
        "* For categorical column, we can sum the value in each category.\n",
        "* For numerical column, we can evaluate its min, max and average value.\n",
        "\n",
        "\n"
      ],
      "metadata": {
        "id": "Nwu8ktYsWiOH"
      }
    },
    {
      "cell_type": "markdown",
      "source": [
        "# **Sex Distribution**"
      ],
      "metadata": {
        "id": "ElBh5dq_W-S1"
      }
    },
    {
      "cell_type": "code",
      "source": [
        "# check the unique value in sex column\n",
        "sex_unique = []\n",
        "for sx in sex:\n",
        "    if sx not in sex_unique:\n",
        "        sex_unique.append(sx)\n",
        "print(sex_unique)"
      ],
      "metadata": {
        "colab": {
          "base_uri": "https://localhost:8080/"
        },
        "id": "1bvJUpnGXBvZ",
        "outputId": "51da27bf-fc1c-4ac2-ddd2-58ad14197f42"
      },
      "execution_count": 31,
      "outputs": [
        {
          "output_type": "stream",
          "name": "stdout",
          "text": [
            "['female', 'male']\n"
          ]
        }
      ]
    },
    {
      "cell_type": "code",
      "source": [
        "# check the distribution of sex\n",
        "female_num = sex.count('female')\n",
        "male_num =sex.count('male')\n",
        "female_pct = round(female_num/total_population*100,2)\n",
        "male_pct = round(male_num/total_population*100,2)\n",
        "print(\"There are {count} female data, which contibutes to {pct}% of total data\"\n",
        "      .format(count=female_num, pct=female_pct))\n",
        "print(\"There are {count} male data, which contributes to {pct}% of total data\"\n",
        "      .format(count=male_num,pct=male_pct))"
      ],
      "metadata": {
        "colab": {
          "base_uri": "https://localhost:8080/"
        },
        "id": "Z-2j7lh-Xacm",
        "outputId": "aed7e43d-8a2b-46a2-e047-d28b045a9bdb"
      },
      "execution_count": 32,
      "outputs": [
        {
          "output_type": "stream",
          "name": "stdout",
          "text": [
            "There are 662 female data, which contibutes to 49.48% of total data\n",
            "There are 676 male data, which contributes to 50.52% of total data\n"
          ]
        }
      ]
    },
    {
      "cell_type": "markdown",
      "source": [
        "# **Region Distribution**"
      ],
      "metadata": {
        "id": "wJLP8Ou6YoLc"
      }
    },
    {
      "cell_type": "code",
      "source": [
        "# check the unique value in region column\n",
        "region_unique = []\n",
        "for reg in region:\n",
        "    if reg not in region_unique:\n",
        "        region_unique.append(reg)\n",
        "print(region_unique)"
      ],
      "metadata": {
        "colab": {
          "base_uri": "https://localhost:8080/"
        },
        "id": "w2rOZIdJnswU",
        "outputId": "ce82d442-47f9-45a8-94cd-0324a8be01d1"
      },
      "execution_count": 34,
      "outputs": [
        {
          "output_type": "stream",
          "name": "stdout",
          "text": [
            "['southwest', 'southeast', 'northwest', 'northeast']\n"
          ]
        }
      ]
    },
    {
      "cell_type": "code",
      "source": [
        "# check the distribution of region\n",
        "sw_count = region.count('southwest')\n",
        "se_count = region.count('southeast')\n",
        "nw_count = region.count('northwest')\n",
        "ne_count = region.count('northeast')\n",
        "\n",
        "sw_pct = round(sw_count/total_population*100,2)\n",
        "se_pct = round(sw_count/total_population*100,2)\n",
        "nw_pct = round(sw_count/total_population*100,2)\n",
        "ne_pct = round(sw_count/total_population*100,2)      \n",
        "\n",
        "print(\"There are {count} people from Southwest region, or {pct}% of total population\"\n",
        "      .format(count=sw_count, pct=sw_pct))\n",
        "print(\"There are {count} people from Southeast region, or {pct}% of total population\"\n",
        "      .format(count=se_count, pct=se_pct))\n",
        "print(\"There are {count} people from Northwest region, or {pct}% of total population\"\n",
        "      .format(count=nw_count, pct=nw_pct))\n",
        "print(\"There are {count} people from Northeast region, or {pct}% of total population\"\n",
        "      .format(count=ne_count, pct=ne_pct))"
      ],
      "metadata": {
        "colab": {
          "base_uri": "https://localhost:8080/"
        },
        "id": "lYcBnjq-oHQm",
        "outputId": "3816f4f3-3922-436f-a095-9b800779fc00"
      },
      "execution_count": 35,
      "outputs": [
        {
          "output_type": "stream",
          "name": "stdout",
          "text": [
            "There are 325 people from Southwest region, or 24.29% of total population\n",
            "There are 364 people from Southeast region, or 24.29% of total population\n",
            "There are 325 people from Northwest region, or 24.29% of total population\n",
            "There are 324 people from Northeast region, or 24.29% of total population\n"
          ]
        }
      ]
    },
    {
      "cell_type": "markdown",
      "source": [
        "Like sex, the distribution in region is also quite equal."
      ],
      "metadata": {
        "id": "QxzLKyCHpYoT"
      }
    },
    {
      "cell_type": "markdown",
      "source": [
        "# **Smoker Distribution**"
      ],
      "metadata": {
        "id": "Yr_9nnqapfMo"
      }
    },
    {
      "cell_type": "code",
      "source": [
        "# check the unique value i smoker column\n",
        "smoker_unique = []\n",
        "for smk in smoker:\n",
        "    if smk not in smoker_unique:\n",
        "        smoker_unique.append(smk)\n",
        "print(smoker_unique)"
      ],
      "metadata": {
        "colab": {
          "base_uri": "https://localhost:8080/"
        },
        "id": "wV83j68op5x2",
        "outputId": "c6192c9c-a75d-44ce-9832-b25720b0ac2b"
      },
      "execution_count": 36,
      "outputs": [
        {
          "output_type": "stream",
          "name": "stdout",
          "text": [
            "['yes', 'no']\n"
          ]
        }
      ]
    },
    {
      "cell_type": "code",
      "source": [
        "smoker_yes = smoker.count('yes')\n",
        "smoker_yes_pct = round(smoker_yes/total_population*100,2)\n",
        "\n",
        "print(\"{smoker} peopele are smoker, which is {pct}% of total population\"\n",
        "      .format(smoker=smoker_yes, pct=smoker_yes_pct))"
      ],
      "metadata": {
        "colab": {
          "base_uri": "https://localhost:8080/"
        },
        "id": "UgYscKuJqOk_",
        "outputId": "8decc397-2548-4c46-82c0-693b2179cd71"
      },
      "execution_count": 39,
      "outputs": [
        {
          "output_type": "stream",
          "name": "stdout",
          "text": [
            "274 peopele are smoker, which is 20.48% of total population\n"
          ]
        }
      ]
    },
    {
      "cell_type": "markdown",
      "source": [
        "Moving forward to **numerical columns**, let's start with age."
      ],
      "metadata": {
        "id": "DM2UJUEOrGKT"
      }
    },
    {
      "cell_type": "markdown",
      "source": [
        "# **Age Distribution**"
      ],
      "metadata": {
        "id": "vWMsOQAlrN8h"
      }
    },
    {
      "cell_type": "code",
      "source": [
        "age_min = min (age)\n",
        "age_max = max (age)\n",
        "age_avg = round(sum(age)/total_population,2)\n",
        "print (\"The average in the population is {age} years old\".format(age=age_min))\n",
        "print (\"The average in the population is {age} years old\".format(age=age_max))\n",
        "print (\"The average in the population is {age} years old\".format(age=age_avg))"
      ],
      "metadata": {
        "colab": {
          "base_uri": "https://localhost:8080/"
        },
        "id": "2y7OwmQHsRSp",
        "outputId": "72a49e1b-8576-4cd8-cf21-1cde573e6928"
      },
      "execution_count": 40,
      "outputs": [
        {
          "output_type": "stream",
          "name": "stdout",
          "text": [
            "The average in the population is 18 years old\n",
            "The average in the population is 64 years old\n",
            "The average in the population is 39.21 years old\n"
          ]
        }
      ]
    },
    {
      "cell_type": "code",
      "source": [
        ""
      ],
      "metadata": {
        "id": "Q4al1E4JrQzb"
      },
      "execution_count": null,
      "outputs": []
    }
  ]
}