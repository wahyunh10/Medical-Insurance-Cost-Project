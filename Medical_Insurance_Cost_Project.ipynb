{
  "nbformat": 4,
  "nbformat_minor": 0,
  "metadata": {
    "colab": {
      "name": "Medical Insurance Cost Project.ipynb",
      "provenance": [],
      "collapsed_sections": [],
      "authorship_tag": "ABX9TyOEHAhVB+vm5LkcAqICa1v/",
      "include_colab_link": true
    },
    "kernelspec": {
      "name": "python3",
      "display_name": "Python 3"
    },
    "language_info": {
      "name": "python"
    }
  },
  "cells": [
    {
      "cell_type": "markdown",
      "metadata": {
        "id": "view-in-github",
        "colab_type": "text"
      },
      "source": [
        "<a href=\"https://colab.research.google.com/github/wahyunh10/Medical-Insurance-Cost-Project/blob/main/Medical_Insurance_Cost_Project.ipynb\" target=\"_parent\"><img src=\"https://colab.research.google.com/assets/colab-badge.svg\" alt=\"Open In Colab\"/></a>"
      ]
    },
    {
      "cell_type": "markdown",
      "source": [
        "# **Medical Insurance Cost Project**"
      ],
      "metadata": {
        "id": "J7HIJITspaTH"
      }
    },
    {
      "cell_type": "markdown",
      "source": [
        "# **About The Project**\n",
        "\n",
        "---\n",
        "\n"
      ],
      "metadata": {
        "id": "Jo49q1R4pgJk"
      }
    },
    {
      "cell_type": "markdown",
      "source": [
        "In 2019, the number of people with health insurance in the United State was close to 300 milion, about 92 percent of the population. Across the United States, Americans pay different premiums monthly for health insurance. The cost of medical insurance can very based on certain factors. Some of the factor that accoount for costs are age, location, tobacco use, dependents and plan category.\n",
        "\n",
        "In this project, we will analyze individual medical insurance cost and variables that may affect it. This project goal are to:\n",
        "\n",
        "* Analyze multiple variables in meaningful ways that will provide insight into the dataset\n",
        "* Implement Data Analys skill in a real-world scenario\n",
        "* Utilize Python to model this data in a way that is digestible\n",
        "\n",
        "Each section of this notebook will contain code that is being used to analyzw the dataset, as well as any findings. The aims is to provide both insights into the data while also showingcasing coding and data analysis skill."
      ],
      "metadata": {
        "id": "ht2ukYmrpTVL"
      }
    },
    {
      "cell_type": "markdown",
      "source": [
        "# **The Dataset**\n",
        "\n",
        "---\n",
        "\n"
      ],
      "metadata": {
        "id": "NqYSTxlOpnsH"
      }
    },
    {
      "cell_type": "markdown",
      "source": [
        "The dataset is obtained from [Kaggle dataset](https://www.kaggle.com/datasets/mirichoi0218/insurance). The dataset consist of 7 columns.\n",
        "\n",
        "* `age`: age of primary beneficiary\n",
        "* `sex`: insurance contractor gender, male or female\n",
        "* `bmi`: body mass index, providing an understandg of body, weights that relatively high or low relative to height, objective index of body weight (kg/m^2) using the ratio of height to weight\n",
        "* `children`: number of children covered by health insurance/number if dependents\n",
        "* `smoker`: is the beneficiary smoking ? yes or no\n",
        "* `region`: the beneficiary's residential area in the US; northeast southeast southwest, northwest\n",
        "* `charges`: indiidual medical cost billed by health insurance in USD"
      ],
      "metadata": {
        "id": "HBreO0HTpqlh"
      }
    },
    {
      "cell_type": "markdown",
      "source": [
        "# **Import The Dataset**\n",
        "\n",
        "---\n",
        "\n",
        "Before begin analyzing our dataset, the first thing we have to do  is import the dataset. Then we can see the header and example of row in the dataset. For example, we will take the first row.\n",
        "\n",
        "\n"
      ],
      "metadata": {
        "id": "w7w6zXlxsOcZ"
      }
    },
    {
      "cell_type": "code",
      "source": [
        "import csv\n",
        "\n",
        "with open('insurance.csv', newline='') as insurance_csv:\n",
        "    csv_reader = csv.reader(insurance_csv)\n",
        "    csv_headings = next(csv_reader)\n",
        "    first_line = next(csv_reader)\n",
        "    print(csv_headings)\n",
        "    print(first_line)"
      ],
      "metadata": {
        "colab": {
          "base_uri": "https://localhost:8080/"
        },
        "id": "pwe8P_paEZeC",
        "outputId": "c6f5cb34-33f7-4898-b871-9eb81fbfe54f"
      },
      "execution_count": 2,
      "outputs": [
        {
          "output_type": "stream",
          "name": "stdout",
          "text": [
            "['age', 'sex', 'bmi', 'children', 'smoker', 'region', 'charges']\n",
            "['19', 'female', '27.9', '0', 'yes', 'southwest', '16884.924']\n"
          ]
        }
      ]
    },
    {
      "cell_type": "markdown",
      "source": [
        "From example above, we can see the insurance_csv file has 7 columns. We can also decide the data type for each column; `age` and `children` are integers, `bmi` and `charges` are floats, and `sex`, `smoker` and `region` are strings.\n",
        "\n",
        "We will make separate list for each column.\n"
      ],
      "metadata": {
        "id": "pa-pkUHCFQ5X"
      }
    },
    {
      "cell_type": "code",
      "source": [
        "# create list for each column\n",
        "age = []\n",
        "sex = []\n",
        "bmi = []\n",
        "children = []\n",
        "smoker = []\n",
        "region = []\n",
        "charges = []"
      ],
      "metadata": {
        "id": "ndZrPxHAF3u_"
      },
      "execution_count": 3,
      "outputs": []
    },
    {
      "cell_type": "code",
      "source": [
        "# read the dataset\n",
        "with open('insurance.csv', newline='') as insurance_csv:\n",
        "    insurance_dict = csv.DictReader(insurance_csv)\n",
        "    for data in insurance_dict: # append row from dictionary to list \n",
        "        age.append(int(data['age']))\n",
        "        sex.append(data['sex'])\n",
        "        bmi.append(float(data['bmi']))\n",
        "        children.append(int(data['children']))\n",
        "        smoker.append(data['smoker'])\n",
        "        region.append(data['region'])\n",
        "        charges.append(float(data['charges']))"
      ],
      "metadata": {
        "id": "dHNUAw-gIAbK"
      },
      "execution_count": 4,
      "outputs": []
    },
    {
      "cell_type": "markdown",
      "source": [
        "# **Investigating The Dataset**\n",
        "\n",
        "---\n",
        "\n",
        "Let's see if the dataset has missing data or not\n"
      ],
      "metadata": {
        "id": "blc1ildWIY5n"
      }
    },
    {
      "cell_type": "code",
      "source": [
        "from typing import List\n",
        "complete_list_dict = {'age' : age,\n",
        "                      'sex' : sex,\n",
        "                      'bmi' : children,\n",
        "                      'children' : children,\n",
        "                      'smoker' : smoker,\n",
        "                      'region' : region,\n",
        "                      'charges': smoker}\n",
        "\n",
        "for key in complete_list_dict:\n",
        "    print(\"The number of data in {key} list is {list_length}\".format(key=key, list_length=len(complete_list_dict[key])))"
      ],
      "metadata": {
        "colab": {
          "base_uri": "https://localhost:8080/"
        },
        "id": "SF5Q1CbfIiLH",
        "outputId": "1fb9b9b8-fc1e-42dd-84a8-2f3c563385af"
      },
      "execution_count": 5,
      "outputs": [
        {
          "output_type": "stream",
          "name": "stdout",
          "text": [
            "The number of data in age list is 1338\n",
            "The number of data in sex list is 1338\n",
            "The number of data in bmi list is 1338\n",
            "The number of data in children list is 1338\n",
            "The number of data in smoker list is 1338\n",
            "The number of data in region list is 1338\n",
            "The number of data in charges list is 1338\n"
          ]
        }
      ]
    },
    {
      "cell_type": "markdown",
      "source": [
        "There are 1338 data in all columns. Since the number is same across all columns, the are no missing data in the dataset"
      ],
      "metadata": {
        "id": "pre4aJ-SO-4g"
      }
    },
    {
      "cell_type": "code",
      "source": [
        "total_population = len(age)\n",
        "print(total_population)"
      ],
      "metadata": {
        "colab": {
          "base_uri": "https://localhost:8080/"
        },
        "id": "itvaf1E7PCPH",
        "outputId": "b4d2b320-d05f-4d86-d8ae-fccffa0b14b0"
      },
      "execution_count": 6,
      "outputs": [
        {
          "output_type": "stream",
          "name": "stdout",
          "text": [
            "1338\n"
          ]
        }
      ]
    },
    {
      "cell_type": "markdown",
      "source": [
        "We have imported the dataset, now we can begin analyzing"
      ],
      "metadata": {
        "id": "fWYdKYo9Wccb"
      }
    },
    {
      "cell_type": "markdown",
      "source": [
        "# **Statistical Summary**\n",
        "\n",
        "---\n",
        "\n",
        "First, we can perform statistical analysis of data in each column.\n",
        "\n",
        "* For categorical column, we can sum the value in each category.\n",
        "* For numerical column, we can evaluate its min, max and average value.\n",
        "\n",
        "\n"
      ],
      "metadata": {
        "id": "Nwu8ktYsWiOH"
      }
    },
    {
      "cell_type": "markdown",
      "source": [
        "# **Sex Distribution**"
      ],
      "metadata": {
        "id": "ElBh5dq_W-S1"
      }
    },
    {
      "cell_type": "code",
      "source": [
        "# check the unique value in sex column\n",
        "sex_unique = []\n",
        "for sx in sex:\n",
        "    if sx not in sex_unique:\n",
        "        sex_unique.append(sx)\n",
        "print(sex_unique)"
      ],
      "metadata": {
        "colab": {
          "base_uri": "https://localhost:8080/"
        },
        "id": "1bvJUpnGXBvZ",
        "outputId": "c9fcef3c-f0cd-47a9-dc03-d4687ece6c1a"
      },
      "execution_count": 7,
      "outputs": [
        {
          "output_type": "stream",
          "name": "stdout",
          "text": [
            "['female', 'male']\n"
          ]
        }
      ]
    },
    {
      "cell_type": "code",
      "source": [
        "# check the distribution of sex\n",
        "female_num = sex.count('female')\n",
        "male_num =sex.count('male')\n",
        "female_pct = round(female_num/total_population*100,2)\n",
        "male_pct = round(male_num/total_population*100,2)\n",
        "print(\"There are {count} female data, which contibutes to {pct}% of total data\"\n",
        "      .format(count=female_num, pct=female_pct))\n",
        "print(\"There are {count} male data, which contributes to {pct}% of total data\"\n",
        "      .format(count=male_num,pct=male_pct))"
      ],
      "metadata": {
        "colab": {
          "base_uri": "https://localhost:8080/"
        },
        "id": "Z-2j7lh-Xacm",
        "outputId": "022ca845-1dfc-4eaf-c673-542abf64acd8"
      },
      "execution_count": 8,
      "outputs": [
        {
          "output_type": "stream",
          "name": "stdout",
          "text": [
            "There are 662 female data, which contibutes to 49.48% of total data\n",
            "There are 676 male data, which contributes to 50.52% of total data\n"
          ]
        }
      ]
    },
    {
      "cell_type": "markdown",
      "source": [
        "# **Region Distribution**"
      ],
      "metadata": {
        "id": "wJLP8Ou6YoLc"
      }
    },
    {
      "cell_type": "code",
      "source": [
        "# check the unique value in region column\n",
        "region_unique = []\n",
        "for reg in region:\n",
        "    if reg not in region_unique:\n",
        "        region_unique.append(reg)\n",
        "print(region_unique)"
      ],
      "metadata": {
        "colab": {
          "base_uri": "https://localhost:8080/"
        },
        "id": "w2rOZIdJnswU",
        "outputId": "ebee2bac-c544-488d-9331-b61b72a5f98d"
      },
      "execution_count": 9,
      "outputs": [
        {
          "output_type": "stream",
          "name": "stdout",
          "text": [
            "['southwest', 'southeast', 'northwest', 'northeast']\n"
          ]
        }
      ]
    },
    {
      "cell_type": "code",
      "source": [
        "# check the distribution of region\n",
        "sw_count = region.count('southwest')\n",
        "se_count = region.count('southeast')\n",
        "nw_count = region.count('northwest')\n",
        "ne_count = region.count('northeast')\n",
        "\n",
        "sw_pct = round(sw_count/total_population*100,2)\n",
        "se_pct = round(sw_count/total_population*100,2)\n",
        "nw_pct = round(sw_count/total_population*100,2)\n",
        "ne_pct = round(sw_count/total_population*100,2)      \n",
        "\n",
        "print(\"There are {count} people from Southwest region, or {pct}% of total population\"\n",
        "      .format(count=sw_count, pct=sw_pct))\n",
        "print(\"There are {count} people from Southeast region, or {pct}% of total population\"\n",
        "      .format(count=se_count, pct=se_pct))\n",
        "print(\"There are {count} people from Northwest region, or {pct}% of total population\"\n",
        "      .format(count=nw_count, pct=nw_pct))\n",
        "print(\"There are {count} people from Northeast region, or {pct}% of total population\"\n",
        "      .format(count=ne_count, pct=ne_pct))"
      ],
      "metadata": {
        "colab": {
          "base_uri": "https://localhost:8080/"
        },
        "id": "lYcBnjq-oHQm",
        "outputId": "739df27f-c1fb-4923-cea3-848c583ae7d1"
      },
      "execution_count": 10,
      "outputs": [
        {
          "output_type": "stream",
          "name": "stdout",
          "text": [
            "There are 325 people from Southwest region, or 24.29% of total population\n",
            "There are 364 people from Southeast region, or 24.29% of total population\n",
            "There are 325 people from Northwest region, or 24.29% of total population\n",
            "There are 324 people from Northeast region, or 24.29% of total population\n"
          ]
        }
      ]
    },
    {
      "cell_type": "markdown",
      "source": [
        "Like sex, the distribution in region is also quite equal."
      ],
      "metadata": {
        "id": "QxzLKyCHpYoT"
      }
    },
    {
      "cell_type": "markdown",
      "source": [
        "# **Smoker Distribution**"
      ],
      "metadata": {
        "id": "Yr_9nnqapfMo"
      }
    },
    {
      "cell_type": "code",
      "source": [
        "# check the unique value i smoker column\n",
        "smoker_unique = []\n",
        "for smk in smoker:\n",
        "    if smk not in smoker_unique:\n",
        "        smoker_unique.append(smk)\n",
        "print(smoker_unique)"
      ],
      "metadata": {
        "colab": {
          "base_uri": "https://localhost:8080/"
        },
        "id": "wV83j68op5x2",
        "outputId": "bf5b2d8d-80e1-4b0d-9328-7764247c878d"
      },
      "execution_count": 11,
      "outputs": [
        {
          "output_type": "stream",
          "name": "stdout",
          "text": [
            "['yes', 'no']\n"
          ]
        }
      ]
    },
    {
      "cell_type": "code",
      "source": [
        "smoker_yes = smoker.count('yes')\n",
        "smoker_yes_pct = round(smoker_yes/total_population*100,2)\n",
        "\n",
        "print(\"{smoker} peopele are smoker, which is {pct}% of total population\"\n",
        "      .format(smoker=smoker_yes, pct=smoker_yes_pct))"
      ],
      "metadata": {
        "colab": {
          "base_uri": "https://localhost:8080/"
        },
        "id": "UgYscKuJqOk_",
        "outputId": "be529b33-95fb-48d2-a150-cf9eaea73c79"
      },
      "execution_count": 12,
      "outputs": [
        {
          "output_type": "stream",
          "name": "stdout",
          "text": [
            "274 peopele are smoker, which is 20.48% of total population\n"
          ]
        }
      ]
    },
    {
      "cell_type": "markdown",
      "source": [
        "Moving forward to **numerical columns**, let's start with age."
      ],
      "metadata": {
        "id": "DM2UJUEOrGKT"
      }
    },
    {
      "cell_type": "markdown",
      "source": [
        "# **Age Distribution**"
      ],
      "metadata": {
        "id": "vWMsOQAlrN8h"
      }
    },
    {
      "cell_type": "code",
      "source": [
        "age_min = min (age)\n",
        "age_max = max (age)\n",
        "age_avg = round(sum(age)/total_population,2)\n",
        "print (\"The average in the population is {age} years old\".format(age=age_min))\n",
        "print (\"The average in the population is {age} years old\".format(age=age_max))\n",
        "print (\"The average in the population is {age} years old\".format(age=age_avg))"
      ],
      "metadata": {
        "colab": {
          "base_uri": "https://localhost:8080/"
        },
        "id": "2y7OwmQHsRSp",
        "outputId": "a299d000-0aea-424d-c619-06e0316d58c7"
      },
      "execution_count": 13,
      "outputs": [
        {
          "output_type": "stream",
          "name": "stdout",
          "text": [
            "The average in the population is 18 years old\n",
            "The average in the population is 64 years old\n",
            "The average in the population is 39.21 years old\n"
          ]
        }
      ]
    },
    {
      "cell_type": "markdown",
      "source": [
        "# **Children Distribution**"
      ],
      "metadata": {
        "id": "LIgqyI3BpFLZ"
      }
    },
    {
      "cell_type": "code",
      "source": [
        "no_child = children.count(0)\n",
        "has_child = total_population - no_child\n",
        "no_child_pct = round(no_child/total_population*100,2)\n",
        "has_child_pct = round(has_child/total_population*100,2)\n",
        "print(\"{pct}% od population has no children ({count} in total)\".format(pct=no_child_pct, count=no_child))\n",
        "print(\"{pct}% od population has children ({count} in total)\".format(pct=has_child_pct, count=has_child))"
      ],
      "metadata": {
        "id": "Q4al1E4JrQzb",
        "colab": {
          "base_uri": "https://localhost:8080/"
        },
        "outputId": "b9798cb9-0a5b-4470-c0d9-7f59bfc963b9"
      },
      "execution_count": 15,
      "outputs": [
        {
          "output_type": "stream",
          "name": "stdout",
          "text": [
            "42.9% od population has no children (574 in total)\n",
            "57.1% od population has children (764 in total)\n"
          ]
        }
      ]
    },
    {
      "cell_type": "markdown",
      "source": [
        "Let's break it down to be more detailed"
      ],
      "metadata": {
        "id": "MHxNS4pFqvIQ"
      }
    },
    {
      "cell_type": "code",
      "source": [
        "# check number of child\n",
        "child_range = []\n",
        "for child in children:\n",
        "    if child not in child_range:\n",
        "        child_range.append(child)\n",
        "        child_range.sort()\n",
        "print(child_range)"
      ],
      "metadata": {
        "colab": {
          "base_uri": "https://localhost:8080/"
        },
        "id": "gMceIhUKq1qg",
        "outputId": "e31b5937-1582-4136-8dca-0d1fe45aff55"
      },
      "execution_count": 17,
      "outputs": [
        {
          "output_type": "stream",
          "name": "stdout",
          "text": [
            "[0, 1, 2, 3, 4, 5]\n"
          ]
        }
      ]
    },
    {
      "cell_type": "markdown",
      "source": [
        "Because the number of unique values in children is not too high, we can also perceive it as numerical and categorical columns. Let's check the average first"
      ],
      "metadata": {
        "id": "_BXlL_b2rdZx"
      }
    },
    {
      "cell_type": "code",
      "source": [
        "average_children = round(sum(children)/total_population,2)\n",
        "print(average_children)"
      ],
      "metadata": {
        "colab": {
          "base_uri": "https://localhost:8080/"
        },
        "id": "SOwHx5QSrreT",
        "outputId": "b76445b3-876c-4cde-f6b0-56d41833ed39"
      },
      "execution_count": 18,
      "outputs": [
        {
          "output_type": "stream",
          "name": "stdout",
          "text": [
            "1.09\n"
          ]
        }
      ]
    },
    {
      "cell_type": "markdown",
      "source": [
        "On average, each individual has 1 children"
      ],
      "metadata": {
        "id": "Ie_HGe0hr3Hi"
      }
    },
    {
      "cell_type": "code",
      "source": [
        "no_child = children.count(0)\n",
        "child_1 = children.count(1)\n",
        "child_2 = children.count(2)\n",
        "child_3 = children.count(3)\n",
        "child_4 = children.count(4)\n",
        "child_5 = children.count(5)\n",
        "\n",
        "no_child_pct = round(no_child/total_population*100,2)\n",
        "child_1_pct = round(child_1/total_population*100,2)\n",
        "child_2_pct = round(child_2/total_population*100,2)\n",
        "child_3_pct = round(child_3/total_population*100,2)\n",
        "child_4_pct = round(child_4/total_population*100,2)\n",
        "child_5_pct = round(child_5/total_population*100,2)\n",
        "\n",
        "print(\"{pct} of population has no children ({count} in total)\".format(pct=no_child_pct, count=no_child))\n",
        "print(\"{pct} of population has no children ({count} in total)\".format(pct=child_1_pct, count=child_1))\n",
        "print(\"{pct} of population has no children ({count} in total)\".format(pct=child_2_pct, count=child_2))\n",
        "print(\"{pct} of population has no children ({count} in total)\".format(pct=child_3_pct, count=child_3))\n",
        "print(\"{pct} of population has no children ({count} in total)\".format(pct=child_4_pct, count=child_4))\n",
        "print(\"{pct} of population has no children ({count} in total)\".format(pct=child_5_pct, count=child_5))"
      ],
      "metadata": {
        "colab": {
          "base_uri": "https://localhost:8080/"
        },
        "id": "jKP2rnqVr7EW",
        "outputId": "95000923-7bae-405e-a23d-8ee0aec0d5c6"
      },
      "execution_count": 20,
      "outputs": [
        {
          "output_type": "stream",
          "name": "stdout",
          "text": [
            "42.9 of population has no children (574 in total)\n",
            "24.22 of population has no children (324 in total)\n",
            "17.94 of population has no children (240 in total)\n",
            "11.73 of population has no children (157 in total)\n",
            "1.87 of population has no children (25 in total)\n",
            "1.35 of population has no children (18 in total)\n"
          ]
        }
      ]
    },
    {
      "cell_type": "markdown",
      "source": [
        "Majority of individual have 0 children. ALso, as the number of children, the number of individual decrease."
      ],
      "metadata": {
        "id": "UPKZSEVQtoF5"
      }
    },
    {
      "cell_type": "markdown",
      "source": [
        "# **Charges Distribution**"
      ],
      "metadata": {
        "id": "WuuOYRqtt1Pn"
      }
    },
    {
      "cell_type": "code",
      "source": [
        "charges_min = round(min(charges),2)\n",
        "charges_max = round(max(charges),2)\n",
        "charges_avg = round(sum(charges)/total_population,2)\n",
        "print(\"The minimum insurance cost in the population is {cost} dollars\".format(cost=charges_min))\n",
        "print(\"The maximum insurance cost in the population is {cost} dollars\".format(cost=charges_max))\n",
        "print(\"The average insurance cost in the population is {cost} dollars\".format(cost=charges_avg))"
      ],
      "metadata": {
        "colab": {
          "base_uri": "https://localhost:8080/"
        },
        "id": "GoA2nNIst5Be",
        "outputId": "fb72968d-0228-4b85-cb69-80e2692b0adf"
      },
      "execution_count": 22,
      "outputs": [
        {
          "output_type": "stream",
          "name": "stdout",
          "text": [
            "The minimum insurance cost in the population is 1121.87 dollars\n",
            "The maximum insurance cost in the population is 63770.43 dollars\n",
            "The average insurance cost in the population is 13270.42 dollars\n"
          ]
        }
      ]
    },
    {
      "cell_type": "markdown",
      "source": [
        "Analyzing The Dataset\n",
        "\n",
        "---\n",
        "The first and most crucial step that defines how the data science project progress is determining the question. **What question we want to answer with this dataset?**\n",
        "\n",
        "We are looking at medical insurance cost dataset and some variables that may affect it. Early on this project, we have a theory use, which we can identify in our dataset as smoker variable.\n",
        "\n",
        "Let's define some question we will answer our dataset:\n",
        "\n",
        "1. Does age factors in one's medical insurance cost?\n",
        "2. Does BMI affect one's medical insurance cost?\n",
        "3. Smoking is major being smoker increse their medical insurance charges?\n",
        "\n",
        "Let's analyze!!\n",
        "\n"
      ],
      "metadata": {
        "id": "uS3O8p0bu3Bv"
      }
    },
    {
      "cell_type": "markdown",
      "source": [
        "# **Effect of Age on Medical Insurance Charges**"
      ],
      "metadata": {
        "id": "-Bra8JWTv5iD"
      }
    },
    {
      "cell_type": "code",
      "source": [
        "print(age_min)\n",
        "print(age_max)"
      ],
      "metadata": {
        "colab": {
          "base_uri": "https://localhost:8080/"
        },
        "id": "2wg7TMm2v_Nf",
        "outputId": "8d705dae-086e-4168-9b10-a73fd205d4ab"
      },
      "execution_count": 23,
      "outputs": [
        {
          "output_type": "stream",
          "name": "stdout",
          "text": [
            "18\n",
            "64\n"
          ]
        }
      ]
    },
    {
      "cell_type": "markdown",
      "source": [
        "The population age are ranging from 18 to 64. Let's classify it to small category to make analyzing easier. We will dicide it into 5 groups:\n",
        "\n",
        "* Group 1 : 18-27 years old\n",
        "\n",
        "* Group 2 : 28-37 years old\n",
        "\n",
        "* Group 3 : 38-47 years old\n",
        "\n",
        "* Group 4 : 48-57 years old\n",
        "\n",
        "* Group 5 : 58 years old or above "
      ],
      "metadata": {
        "id": "0UmaBtvuwFjq"
      }
    },
    {
      "cell_type": "code",
      "source": [
        "# create list for each age group\n",
        "age_g1 = []\n",
        "age_g2 = []\n",
        "age_g3 = []\n",
        "age_g4 = []\n",
        "age_g5 = []\n",
        "\n",
        "# create insurance charges list for each age group\n",
        "age_g1_charges = []\n",
        "age_g2_charges = []\n",
        "age_g3_charges = []\n",
        "age_g4_charges = []\n",
        "age_g5_charges = []\n",
        "\n",
        "num = 0 \n",
        "while num < len (age):\n",
        "    if age[num] >= 18 and age[num] <= 27:\n",
        "        age_g1.append(age[num])\n",
        "        age_g1_charges.append(charges[num])\n",
        "    elif age[num] >= 28 and age[num] <= 37:\n",
        "        age_g2.append(age[num])\n",
        "        age_g2_charges.append(charges[num])\n",
        "    elif age[num] >= 38 and age[num] <= 47:\n",
        "        age_g3.append(age[num])\n",
        "        age_g3_charges.append(charges[num])  \n",
        "    elif age[num] >= 48 and age[num] <= 57:\n",
        "        age_g4.append(age[num])\n",
        "        age_g4_charges.append(charges[num])  \n",
        "    else: \n",
        "        age_g5.append(age[num])\n",
        "        age_g5_charges.append(charges[num])\n",
        "    num += 1\n",
        "\n",
        "# count the individuals in each group\n",
        "len_g1 = len(age_g1)\n",
        "len_g2 = len(age_g2)\n",
        "len_g3 = len(age_g3)\n",
        "len_g4 = len(age_g4)\n",
        "len_g5 = len(age_g5)\n",
        "\n",
        "print(\"There are {} people with age from 18 to 27 years old\".format(len_g1))\n",
        "print(\"There are {} people with age from 28 to 37 years old\".format(len_g2))\n",
        "print(\"There are {} people with age from 38 to 47 years old\".format(len_g3))\n",
        "print(\"There are {} people with age from 48 to 57 years old\".format(len_g4))\n",
        "print(\"There are {} people with age 58 years old or above\".format(len_g5))"
      ],
      "metadata": {
        "colab": {
          "base_uri": "https://localhost:8080/"
        },
        "id": "9MdoIZBLwrj6",
        "outputId": "918f6334-a733-4382-90e0-81e5967684bf"
      },
      "execution_count": 25,
      "outputs": [
        {
          "output_type": "stream",
          "name": "stdout",
          "text": [
            "There are 362 people with age from 18 to 27 years old\n",
            "There are 262 people with age from 28 to 37 years old\n",
            "There are 272 people with age from 38 to 47 years old\n",
            "There are 278 people with age from 48 to 57 years old\n",
            "There are 164 people with age 58 years old or above\n"
          ]
        }
      ]
    },
    {
      "cell_type": "markdown",
      "source": [
        "Number of people on with age group 2,3, and 4 are quite similar. While group 1 is about 100 people more and group 5 is about 100 people less."
      ],
      "metadata": {
        "id": "kFaWC311ywL6"
      }
    },
    {
      "cell_type": "code",
      "source": [
        "age_g1_avg_charges = round(sum(age_g1_charges)/len_g1,2)\n",
        "age_g2_avg_charges = round(sum(age_g2_charges)/len_g2,2)\n",
        "age_g3_avg_charges = round(sum(age_g3_charges)/len_g3,2)\n",
        "age_g4_avg_charges = round(sum(age_g4_charges)/len_g4,2)\n",
        "age_g5_avg_charges = round(sum(age_g5_charges)/len_g5,2)\n",
        "\n",
        "print(\"Average insurance cost for individual with age from 18 to 27 years old is {} dollars\".format(age_g1_avg_charges))\n",
        "print(\"Average insurance cost for individual with age from 28 to 37 years old is {} dollars\".format(age_g2_avg_charges))\n",
        "print(\"Average insurance cost for individual with age from 38 to 47 years old is {} dollars\".format(age_g3_avg_charges))\n",
        "print(\"Average insurance cost for individual with age from 48 to 57 years old is {} dollars\".format(age_g4_avg_charges))\n",
        "print(\"Average insurance cost for individual with age 58 years old or above is {} dollars\".format(age_g5_avg_charges))"
      ],
      "metadata": {
        "colab": {
          "base_uri": "https://localhost:8080/"
        },
        "id": "EJJDvJd9zCEb",
        "outputId": "d19cc980-7e50-495a-8fc8-ed5edf4e19be"
      },
      "execution_count": 26,
      "outputs": [
        {
          "output_type": "stream",
          "name": "stdout",
          "text": [
            "Average insurance cost for individual with age from 18 to 27 years old is 9098.19 dollars\n",
            "Average insurance cost for individual with age from 28 to 37 years old is 11661.81 dollars\n",
            "Average insurance cost for individual with age from 38 to 47 years old is 13730.04 dollars\n",
            "Average insurance cost for individual with age from 48 to 57 years old is 15937.66 dollars\n",
            "Average insurance cost for individual with age 58 years old or above is 19766.12 dollars\n"
          ]
        }
      ]
    },
    {
      "cell_type": "markdown",
      "source": [
        "Our analysis shows that individuals in the group with lowest age (18 to 27 years old) has the lowest average insurance charges of all age groups at 9,098 dollars. On the contrary, the individuals in the group with highest age (58 years old above) has the highest average insurance charges at 19,766 dollars. The increment is more than twice the cost.\n",
        "\n",
        "We can also see that an increase from group 1 to group 4 is roughly the same at 2000 dollars. But the increase from group 4 to group 5 shows quite a jump at 4000 dollars. Also about twice the differece.\n",
        "\n",
        "One major factor in determining charges in health insurance is age. This is because as one ages, it means a higher chance of mortality, hospitalization and medical expenses. Also, as the older on gets, the more difficult it is to determine their risk factors and health-related expenses.\n",
        "\n",
        "So in general, the higher the age of a person, the higher insurance cost he/she will be charged."
      ],
      "metadata": {
        "id": "cHV0LQ5X1m0A"
      }
    },
    {
      "cell_type": "markdown",
      "source": [
        "# **Effect of BMI on Medical Insurance Cost**\n",
        "\n",
        "BMI or Body Mass Index is a measurement that uses the height of the person to determine the suitable wieght for the person. More often than not, BMI also accurately predicts the bofy fat percentage for that person. Therefore, a person with a high BMI has more body and vice versa. While using BMI as health indicator is debateable, for the sake analysis, we will analyze the factor on insurance cost.\n",
        "\n",
        "We will devide BMI to several groups:\n",
        "1. Underweight : BMI below 18.5\n",
        "2. Normal : BMI 18.5 - 24.9\n",
        "3. Overweight : BMI 25.0 - 29.9\n",
        "4. Obese : BMI above 30.0"
      ],
      "metadata": {
        "id": "JggHoYet33FV"
      }
    },
    {
      "cell_type": "code",
      "source": [
        ""
      ],
      "metadata": {
        "id": "2aaQTlCd45gH"
      },
      "execution_count": null,
      "outputs": []
    }
  ]
}